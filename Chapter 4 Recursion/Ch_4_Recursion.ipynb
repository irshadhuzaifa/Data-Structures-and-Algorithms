{
 "cells": [
  {
   "cell_type": "markdown",
   "id": "5f3555f9",
   "metadata": {},
   "source": [
    "# 4.7 Exercises\n",
    "\n",
    "## Reinforcement\n",
    "\n",
    "### R-4.2 \n",
    "Draw the recursion trace for the computation of `power(2,5)`, using the\n",
    "traditional function implemented in Code Fragment 4.11."
   ]
  },
  {
   "cell_type": "markdown",
   "id": "c0574850",
   "metadata": {},
   "source": [
    "![Code Fragment 4.11](Ch_4_img/4.11.png)"
   ]
  },
  {
   "cell_type": "markdown",
   "id": "4ccd75e2",
   "metadata": {},
   "source": [
    "#### Visual Representation of the Recursion Trace:\n",
    "\n",
    "```plaintext\n",
    "power(2, 5)\n",
    "|\n",
    "+-- power(2, 4)\n",
    "|   |\n",
    "|   +-- power(2, 3)\n",
    "|       |\n",
    "|       +-- power(2, 2)\n",
    "|           |\n",
    "|           +-- power(2, 1)\n",
    "|               |\n",
    "|               +-- power(2, 0)\n",
    "|                   |\n",
    "|                   +-- returns 1\n",
    "|               |\n",
    "|               +-- returns 2 (2 * 1)\n",
    "|           |\n",
    "|           +-- returns 4 (2 * 2)\n",
    "|       |\n",
    "|       +-- returns 8 (2 * 4)\n",
    "|   |\n",
    "|   +-- returns 16 (2 * 8)\n",
    "|\n",
    "+-- returns 32 (2 * 16)\n"
   ]
  },
  {
   "cell_type": "markdown",
   "id": "abc265ec",
   "metadata": {},
   "source": [
    "### R-4.4 \n",
    "Draw the recursion trace for the execution of function`reverse(S, 0, 5)`(Code Fragment 4.10) on `S = [4, 3, 6, 2, 6]`."
   ]
  },
  {
   "cell_type": "markdown",
   "id": "021a14e5",
   "metadata": {},
   "source": [
    "![Code Fragment 4.10](Ch_4_img/4.10.png)"
   ]
  },
  {
   "cell_type": "markdown",
   "id": "7cc7a636",
   "metadata": {},
   "source": [
    "#### Recursion Trace for `reverse(S, 0, 5)` on `S = [4, 3, 6, 2, 6]`\n",
    "\n",
    "```plaintext\n",
    "reverse(S, 0, 5)\n",
    "|-- S = [6, 3, 6, 2, 4]  (after swapping S[0] and S[4])\n",
    "|   reverse(S, 1, 4)\n",
    "|   |-- S = [6, 2, 6, 3, 4]  (after swapping S[1] and S[3])\n",
    "|   |   reverse(S, 2, 3)\n",
    "|   |   |-- S = [6, 2, 6, 3, 4]  (no swap, base case reached)\n",
    "|   |   |-- return\n",
    "|   |-- return\n",
    "|-- return\n"
   ]
  },
  {
   "cell_type": "markdown",
   "id": "6c219319",
   "metadata": {},
   "source": [
    "### R-4.6 \n",
    "Describe a recursive function for computing the nth Harmonic number,\n",
    "$\n",
    "H_n = \\sum_{i=1}^{n} \\frac{1}{i}\n",
    "$."
   ]
  },
  {
   "cell_type": "code",
   "execution_count": 1,
   "id": "c1e59cc6",
   "metadata": {},
   "outputs": [
    {
     "name": "stdout",
     "output_type": "stream",
     "text": [
      "2.283333333333333\n"
     ]
    }
   ],
   "source": [
    "\n",
    "def harmonic_num(n, i=1):\n",
    "    # Base case: if i is greater than n, return 0\n",
    "    if i <= n:\n",
    "        # Recursive case: add the reciprocal of i to the result of the next call\n",
    "        return 1/i + harmonic_num(n, i+1)\n",
    "    else:\n",
    "        # End of recursion: return 0 when i is greater than n\n",
    "        return 0\n",
    "\n",
    "# Compute the 5th Harmonic number\n",
    "fifth_harmonic = harmonic_num(5)\n",
    "\n",
    "# Print the result\n",
    "print(fifth_harmonic)  # Output: 2.283333333333333"
   ]
  },
  {
   "cell_type": "markdown",
   "id": "f5e4e711",
   "metadata": {},
   "source": [
    "### R-4.7 \n",
    "Describe a recursive function for converting a string of digits into the integer\n",
    "it represents. For example, `13531` represents the integer 13,531."
   ]
  },
  {
   "cell_type": "code",
   "execution_count": 2,
   "id": "a8670966",
   "metadata": {},
   "outputs": [
    {
     "name": "stdout",
     "output_type": "stream",
     "text": [
      "13554531\n"
     ]
    }
   ],
   "source": [
    "\n",
    "def str_to_digit(str):\n",
    "    # Base case: if the string is empty, return 0.\n",
    "    if str == \"\":\n",
    "        return 0\n",
    "    else:\n",
    "        # Convert the first character of the string to an integer.\n",
    "        digit = int(str[0])\n",
    "\n",
    "        # Calculate the position of this digit from the left.\n",
    "        # This is equivalent to the total length of the string minus 1.\n",
    "        n = len(str) - 1\n",
    "\n",
    "        # Calculate the value of the current digit in its correct position by multiplying\n",
    "        # the digit by 10 raised to the power of n (its position from the left).\n",
    "        # Then, add the result of the recursive call on the substring excluding the first character.\n",
    "        return digit * 10 ** n + str_to_digit(str[1:])\n",
    "\n",
    "\n",
    "# Example usage:\n",
    "# Convert the string '13554531' to the corresponding integer.\n",
    "string_digit = str_to_digit('13554531')\n",
    "\n",
    "# Print the resulting integer.\n",
    "print(string_digit)"
   ]
  },
  {
   "cell_type": "markdown",
   "id": "63cc335b",
   "metadata": {},
   "source": [
    "### R-4.8 \n",
    "Isabel has an interesting way of summing up the values in a sequence A of\n",
    "n integers, where n is a power of two. She creates a new sequence B of half\n",
    "the size of A and sets `B[i] = A[2i] + A[2i+1]`, `for i = 0,1, . . . , (n/2)−1`. If\n",
    "B has size 1, then she outputs `B[0]`. Otherwise, she replaces A with B, and\n",
    "repeats the process. What is the running time of her algorithm?"
   ]
  },
  {
   "cell_type": "markdown",
   "id": "02492d06",
   "metadata": {},
   "source": [
    "Isabel's algorithm has a running time of ` O(n) `. Here's a breakdown of the analysis:\n",
    "\n",
    "1. **Process Overview:**\n",
    "   - Each iteration creates a new sequence by summing adjacent pairs of elements.\n",
    "   - In each iteration, the sequence size is halved, and the work done is proportional to the size of the sequence.\n",
    "\n",
    "2. **Work Done Per Iteration:**\n",
    "   - **1st iteration:** ` O(n) ` operations\n",
    "   - **2nd iteration:** ` O(n/2) ` operations\n",
    "   - **3rd iteration:** ` O(n/4) ` operations\n",
    "   - **...**\n",
    "   - **Final iteration:** ` O(1) ` operation\n",
    "\n",
    "3. **Total Running Time:**\n",
    "   - The total work is the sum of the work done in each iteration:\n",
    "     $\n",
    "     O(n) + O(n/2) + O(n/4) + \\cdots + O(1)\n",
    "     $\n",
    "   - This series is a geometric series that sums to ` O(n) `.\n",
    "\n",
    "Therefore, the overall running time of Isabel's algorithm is ` O(n) `.\n"
   ]
  },
  {
   "cell_type": "markdown",
   "id": "8e460fc0",
   "metadata": {},
   "source": [
    "## Creativity\n",
    "\n",
    "### C-4.9 \n",
    "Write a short recursive Python function that finds the minimum and maximum\n",
    "values in a sequence without using any loops."
   ]
  },
  {
   "cell_type": "code",
   "execution_count": 1,
   "id": "a8e5f713",
   "metadata": {},
   "outputs": [
    {
     "name": "stdout",
     "output_type": "stream",
     "text": [
      "Maximum: 82\n",
      "Minimum: 1\n"
     ]
    }
   ],
   "source": [
    "Nums = [1,2,3,4,10,45,82,9,10,8,7,6,5]\n",
    "\n",
    "def max_min(lst, i=0, max=None, min=None):\n",
    "    if i < len(lst):\n",
    "        if min==None or lst[i] < min:\n",
    "            min = lst[i]\n",
    "        if  max==None or lst[i] > max:\n",
    "            max = lst[i]\n",
    "        return max_min(lst, i+1, max, min)\n",
    "\n",
    "    else:\n",
    "        return max, min\n",
    "\n",
    "maximum, minimum = max_min(Nums)\n",
    "\n",
    "print(\"Maximum:\", maximum)\n",
    "print(\"Minimum:\", minimum)"
   ]
  },
  {
   "cell_type": "markdown",
   "id": "266d4f14",
   "metadata": {},
   "source": [
    "### C-4.10 \n",
    "Describe a recursive algorithm to compute the integer part of the base-two\n",
    "logarithm of $n$ using only addition and integer division."
   ]
  },
  {
   "cell_type": "code",
   "execution_count": 3,
   "id": "a9831e7a",
   "metadata": {},
   "outputs": [
    {
     "name": "stdout",
     "output_type": "stream",
     "text": [
      "The integer part of log2(20) is 4\n"
     ]
    }
   ],
   "source": [
    "def log2(n):\n",
    "    # Base case: if n is less than 2, return 0\n",
    "    if n < 2:\n",
    "        return 0\n",
    "    # Recursive case: divide n by 2 and add 1 to the result\n",
    "    else:\n",
    "        return 1 + log2(n // 2)\n",
    "\n",
    "# Example usage:\n",
    "n = 20\n",
    "print(f\"The integer part of log2({n}) is {log2(n)}\")\n"
   ]
  },
  {
   "cell_type": "markdown",
   "id": "36bea1a0",
   "metadata": {},
   "source": [
    "### C-4.14\n",
    "![Creative 4.14](Ch_4_img/C-4.14.png)"
   ]
  },
  {
   "cell_type": "code",
   "execution_count": 30,
   "id": "b192b400",
   "metadata": {},
   "outputs": [
    {
     "name": "stdout",
     "output_type": "stream",
     "text": [
      "Final state:\n",
      "Peg a: []\n",
      "Peg b: []\n",
      "Peg c: [1, 2, 3, 4, 5, 6, 7, 8, 9, 10]\n"
     ]
    }
   ],
   "source": [
    "def hanoi(n, source, destination, temporary):\n",
    "    if n == 1:\n",
    "        # Move a single disk from source to destination\n",
    "        destination.append(source.pop())\n",
    "       \n",
    "    else:\n",
    "        # Move top n-1 disks from source to temporary peg\n",
    "        hanoi(n-1, source, temporary, destination)\n",
    "        \n",
    "        # Move the nth disk from source to destination\n",
    "        destination.append(source.pop())\n",
    "        \n",
    "        \n",
    "        # Move the n-1 disks from temporary peg to destination\n",
    "        hanoi(n-1, temporary, destination, source)\n",
    "\n",
    "# Initialize lists for pegs\n",
    "a = [1, 2, 3, 4, 5, 6, 7, 8, 9, 10]\n",
    "b = []\n",
    "c = []\n",
    "\n",
    "# Call the hanoi function\n",
    "hanoi(len(a), a, c, b)\n",
    "\n",
    "# Print the final state of the pegs\n",
    "print(\"Final state:\")\n",
    "print(\"Peg a:\", a)\n",
    "print(\"Peg b:\", b)\n",
    "print(\"Peg c:\", c)"
   ]
  },
  {
   "cell_type": "markdown",
   "id": "ab14efe3",
   "metadata": {},
   "source": [
    "### C-4.15 \n",
    "Write a recursive function that will output all the subsets of a set of n\n",
    "elements (without repeating any subsets).\n",
    "\n"
   ]
  },
  {
   "cell_type": "code",
   "execution_count": 7,
   "id": "f807aeb5",
   "metadata": {},
   "outputs": [
    {
     "name": "stdout",
     "output_type": "stream",
     "text": [
      "\n",
      "All subsets using non-recursive approach:\n",
      "\n",
      "[[1], [1, 2], [1, 2, 3], [1, 2, 3, 4], [1, 2, 3, 4, 5], [1, 2, 3, 4, 5, 6], [1, 2, 3, 4, 5, 6, 10], [1, 2, 3, 4, 5, 6, 10, 20], [1, 2, 3, 4, 5, 6, 10, 20, 8], [1, 2, 3, 4, 5, 6, 10, 20, 8, 9], [1, 2, 3, 4, 5, 6, 10, 20, 8, 9, 7], [2], [2, 3], [2, 3, 4], [2, 3, 4, 5], [2, 3, 4, 5, 6], [2, 3, 4, 5, 6, 10], [2, 3, 4, 5, 6, 10, 20], [2, 3, 4, 5, 6, 10, 20, 8], [2, 3, 4, 5, 6, 10, 20, 8, 9], [2, 3, 4, 5, 6, 10, 20, 8, 9, 7], [3], [3, 4], [3, 4, 5], [3, 4, 5, 6], [3, 4, 5, 6, 10], [3, 4, 5, 6, 10, 20], [3, 4, 5, 6, 10, 20, 8], [3, 4, 5, 6, 10, 20, 8, 9], [3, 4, 5, 6, 10, 20, 8, 9, 7], [4], [4, 5], [4, 5, 6], [4, 5, 6, 10], [4, 5, 6, 10, 20], [4, 5, 6, 10, 20, 8], [4, 5, 6, 10, 20, 8, 9], [4, 5, 6, 10, 20, 8, 9, 7], [5], [5, 6], [5, 6, 10], [5, 6, 10, 20], [5, 6, 10, 20, 8], [5, 6, 10, 20, 8, 9], [5, 6, 10, 20, 8, 9, 7], [6], [6, 10], [6, 10, 20], [6, 10, 20, 8], [6, 10, 20, 8, 9], [6, 10, 20, 8, 9, 7], [10], [10, 20], [10, 20, 8], [10, 20, 8, 9], [10, 20, 8, 9, 7], [20], [20, 8], [20, 8, 9], [20, 8, 9, 7], [8], [8, 9], [8, 9, 7], [9], [9, 7], [7], [1, 3], [1, 4], [1, 5], [1, 6], [1, 10], [1, 20], [1, 8], [1, 9], [1, 7], [2, 4], [2, 5], [2, 6], [2, 10], [2, 20], [2, 8], [2, 9], [2, 7], [3, 5], [3, 6], [3, 10], [3, 20], [3, 8], [3, 9], [3, 7], [4, 6], [4, 10], [4, 20], [4, 8], [4, 9], [4, 7], [5, 10], [5, 20], [5, 8], [5, 9], [5, 7], [6, 20], [6, 8], [6, 9], [6, 7], [10, 8], [10, 9], [10, 7], [20, 9], [20, 7], [8, 7], [1, 3, 4], [1, 4, 5], [1, 5, 6], [1, 6, 10], [1, 10, 20], [1, 20, 8], [1, 8, 9], [1, 9, 7], [2, 4, 5], [2, 5, 6], [2, 6, 10], [2, 10, 20], [2, 20, 8], [2, 8, 9], [2, 9, 7], [3, 5, 6], [3, 6, 10], [3, 10, 20], [3, 20, 8], [3, 8, 9], [3, 9, 7], [4, 6, 10], [4, 10, 20], [4, 20, 8], [4, 8, 9], [4, 9, 7], [5, 10, 20], [5, 20, 8], [5, 8, 9], [5, 9, 7], [6, 20, 8], [6, 8, 9], [6, 9, 7], [10, 8, 9], [10, 9, 7], [20, 9, 7], [1, 3, 4, 5], [1, 4, 5, 6], [1, 5, 6, 10], [1, 6, 10, 20], [1, 10, 20, 8], [1, 20, 8, 9], [1, 8, 9, 7], [2, 4, 5, 6], [2, 5, 6, 10], [2, 6, 10, 20], [2, 10, 20, 8], [2, 20, 8, 9], [2, 8, 9, 7], [3, 5, 6, 10], [3, 6, 10, 20], [3, 10, 20, 8], [3, 20, 8, 9], [3, 8, 9, 7], [4, 6, 10, 20], [4, 10, 20, 8], [4, 20, 8, 9], [4, 8, 9, 7], [5, 10, 20, 8], [5, 20, 8, 9], [5, 8, 9, 7], [6, 20, 8, 9], [6, 8, 9, 7], [10, 8, 9, 7], [1, 3, 4, 5, 6], [1, 4, 5, 6, 10], [1, 5, 6, 10, 20], [1, 6, 10, 20, 8], [1, 10, 20, 8, 9], [1, 20, 8, 9, 7], [2, 4, 5, 6, 10], [2, 5, 6, 10, 20], [2, 6, 10, 20, 8], [2, 10, 20, 8, 9], [2, 20, 8, 9, 7], [3, 5, 6, 10, 20], [3, 6, 10, 20, 8], [3, 10, 20, 8, 9], [3, 20, 8, 9, 7], [4, 6, 10, 20, 8], [4, 10, 20, 8, 9], [4, 20, 8, 9, 7], [5, 10, 20, 8, 9], [5, 20, 8, 9, 7], [6, 20, 8, 9, 7], [1, 3, 4, 5, 6, 10], [1, 4, 5, 6, 10, 20], [1, 5, 6, 10, 20, 8], [1, 6, 10, 20, 8, 9], [1, 10, 20, 8, 9, 7], [2, 4, 5, 6, 10, 20], [2, 5, 6, 10, 20, 8], [2, 6, 10, 20, 8, 9], [2, 10, 20, 8, 9, 7], [3, 5, 6, 10, 20, 8], [3, 6, 10, 20, 8, 9], [3, 10, 20, 8, 9, 7], [4, 6, 10, 20, 8, 9], [4, 10, 20, 8, 9, 7], [5, 10, 20, 8, 9, 7], [1, 3, 4, 5, 6, 10, 20], [1, 4, 5, 6, 10, 20, 8], [1, 5, 6, 10, 20, 8, 9], [1, 6, 10, 20, 8, 9, 7], [2, 4, 5, 6, 10, 20, 8], [2, 5, 6, 10, 20, 8, 9], [2, 6, 10, 20, 8, 9, 7], [3, 5, 6, 10, 20, 8, 9], [3, 6, 10, 20, 8, 9, 7], [4, 6, 10, 20, 8, 9, 7], [1, 3, 4, 5, 6, 10, 20, 8], [1, 4, 5, 6, 10, 20, 8, 9], [1, 5, 6, 10, 20, 8, 9, 7], [2, 4, 5, 6, 10, 20, 8, 9], [2, 5, 6, 10, 20, 8, 9, 7], [3, 5, 6, 10, 20, 8, 9, 7], [1, 3, 4, 5, 6, 10, 20, 8, 9], [1, 4, 5, 6, 10, 20, 8, 9, 7], [2, 4, 5, 6, 10, 20, 8, 9, 7], [1, 3, 4, 5, 6, 10, 20, 8, 9, 7]]\n",
      "\n",
      "All subsets using recursive approach:\n",
      "\n",
      "[[1], [1, 2], [1, 2, 3], [1, 2, 3, 4], [1, 2, 3, 4, 5], [1, 2, 3, 4, 5, 6], [1, 2, 3, 4, 5, 6, 10], [1, 2, 3, 4, 5, 6, 10, 20], [1, 2, 3, 4, 5, 6, 10, 20, 8], [1, 2, 3, 4, 5, 6, 10, 20, 8, 9], [1, 2, 3, 4, 5, 6, 10, 20, 8, 9, 7], [2], [2, 3], [2, 3, 4], [2, 3, 4, 5], [2, 3, 4, 5, 6], [2, 3, 4, 5, 6, 10], [2, 3, 4, 5, 6, 10, 20], [2, 3, 4, 5, 6, 10, 20, 8], [2, 3, 4, 5, 6, 10, 20, 8, 9], [2, 3, 4, 5, 6, 10, 20, 8, 9, 7], [3], [3, 4], [3, 4, 5], [3, 4, 5, 6], [3, 4, 5, 6, 10], [3, 4, 5, 6, 10, 20], [3, 4, 5, 6, 10, 20, 8], [3, 4, 5, 6, 10, 20, 8, 9], [3, 4, 5, 6, 10, 20, 8, 9, 7], [4], [4, 5], [4, 5, 6], [4, 5, 6, 10], [4, 5, 6, 10, 20], [4, 5, 6, 10, 20, 8], [4, 5, 6, 10, 20, 8, 9], [4, 5, 6, 10, 20, 8, 9, 7], [5], [5, 6], [5, 6, 10], [5, 6, 10, 20], [5, 6, 10, 20, 8], [5, 6, 10, 20, 8, 9], [5, 6, 10, 20, 8, 9, 7], [6], [6, 10], [6, 10, 20], [6, 10, 20, 8], [6, 10, 20, 8, 9], [6, 10, 20, 8, 9, 7], [10], [10, 20], [10, 20, 8], [10, 20, 8, 9], [10, 20, 8, 9, 7], [20], [20, 8], [20, 8, 9], [20, 8, 9, 7], [8], [8, 9], [8, 9, 7], [9], [9, 7], [7], [1, 3], [1, 4], [1, 5], [1, 6], [1, 10], [1, 20], [1, 8], [1, 9], [1, 7], [2, 4], [2, 5], [2, 6], [2, 10], [2, 20], [2, 8], [2, 9], [2, 7], [3, 5], [3, 6], [3, 10], [3, 20], [3, 8], [3, 9], [3, 7], [4, 6], [4, 10], [4, 20], [4, 8], [4, 9], [4, 7], [5, 10], [5, 20], [5, 8], [5, 9], [5, 7], [6, 20], [6, 8], [6, 9], [6, 7], [10, 8], [10, 9], [10, 7], [20, 9], [20, 7], [8, 7], [1, 3, 4], [1, 4, 5], [1, 5, 6], [1, 6, 10], [1, 10, 20], [1, 20, 8], [1, 8, 9], [1, 9, 7], [2, 4, 5], [2, 5, 6], [2, 6, 10], [2, 10, 20], [2, 20, 8], [2, 8, 9], [2, 9, 7], [3, 5, 6], [3, 6, 10], [3, 10, 20], [3, 20, 8], [3, 8, 9], [3, 9, 7], [4, 6, 10], [4, 10, 20], [4, 20, 8], [4, 8, 9], [4, 9, 7], [5, 10, 20], [5, 20, 8], [5, 8, 9], [5, 9, 7], [6, 20, 8], [6, 8, 9], [6, 9, 7], [10, 8, 9], [10, 9, 7], [20, 9, 7], [1, 3, 4, 5], [1, 4, 5, 6], [1, 5, 6, 10], [1, 6, 10, 20], [1, 10, 20, 8], [1, 20, 8, 9], [1, 8, 9, 7], [2, 4, 5, 6], [2, 5, 6, 10], [2, 6, 10, 20], [2, 10, 20, 8], [2, 20, 8, 9], [2, 8, 9, 7], [3, 5, 6, 10], [3, 6, 10, 20], [3, 10, 20, 8], [3, 20, 8, 9], [3, 8, 9, 7], [4, 6, 10, 20], [4, 10, 20, 8], [4, 20, 8, 9], [4, 8, 9, 7], [5, 10, 20, 8], [5, 20, 8, 9], [5, 8, 9, 7], [6, 20, 8, 9], [6, 8, 9, 7], [10, 8, 9, 7], [1, 3, 4, 5, 6], [1, 4, 5, 6, 10], [1, 5, 6, 10, 20], [1, 6, 10, 20, 8], [1, 10, 20, 8, 9], [1, 20, 8, 9, 7], [2, 4, 5, 6, 10], [2, 5, 6, 10, 20], [2, 6, 10, 20, 8], [2, 10, 20, 8, 9], [2, 20, 8, 9, 7], [3, 5, 6, 10, 20], [3, 6, 10, 20, 8], [3, 10, 20, 8, 9], [3, 20, 8, 9, 7], [4, 6, 10, 20, 8], [4, 10, 20, 8, 9], [4, 20, 8, 9, 7], [5, 10, 20, 8, 9], [5, 20, 8, 9, 7], [6, 20, 8, 9, 7], [1, 3, 4, 5, 6, 10], [1, 4, 5, 6, 10, 20], [1, 5, 6, 10, 20, 8], [1, 6, 10, 20, 8, 9], [1, 10, 20, 8, 9, 7], [2, 4, 5, 6, 10, 20], [2, 5, 6, 10, 20, 8], [2, 6, 10, 20, 8, 9], [2, 10, 20, 8, 9, 7], [3, 5, 6, 10, 20, 8], [3, 6, 10, 20, 8, 9], [3, 10, 20, 8, 9, 7], [4, 6, 10, 20, 8, 9], [4, 10, 20, 8, 9, 7], [5, 10, 20, 8, 9, 7], [1, 3, 4, 5, 6, 10, 20], [1, 4, 5, 6, 10, 20, 8], [1, 5, 6, 10, 20, 8, 9], [1, 6, 10, 20, 8, 9, 7], [2, 4, 5, 6, 10, 20, 8], [2, 5, 6, 10, 20, 8, 9], [2, 6, 10, 20, 8, 9, 7], [3, 5, 6, 10, 20, 8, 9], [3, 6, 10, 20, 8, 9, 7], [4, 6, 10, 20, 8, 9, 7], [1, 3, 4, 5, 6, 10, 20, 8], [1, 4, 5, 6, 10, 20, 8, 9], [1, 5, 6, 10, 20, 8, 9, 7], [2, 4, 5, 6, 10, 20, 8, 9], [2, 5, 6, 10, 20, 8, 9, 7], [3, 5, 6, 10, 20, 8, 9, 7], [1, 3, 4, 5, 6, 10, 20, 8, 9], [1, 4, 5, 6, 10, 20, 8, 9, 7], [2, 4, 5, 6, 10, 20, 8, 9, 7], [1, 3, 4, 5, 6, 10, 20, 8, 9, 7]]\n"
     ]
    }
   ],
   "source": [
    "# Initial list of numbers\n",
    "Nums = [1, 2, 3, 4, 5, 6, 10, 20, 8, 9, 7]\n",
    "\n",
    "# Non-recursive approach to generate all subsets\n",
    "def subsets(lst):\n",
    "    i = 0\n",
    "    j = 0\n",
    "    subs = []  # List to hold all subsets generated\n",
    "    new_list = []  # List to hold new subsets generated in a different approach\n",
    "\n",
    "    # Iterative approach to generate subsets\n",
    "    while i < len(lst):\n",
    "        j = i + 1\n",
    "        while j <= len(lst):\n",
    "            subs.append(lst[i:j])  # Append subsets from index i to j\n",
    "            j += 1\n",
    "\n",
    "        i += 1\n",
    "\n",
    "    # Variables for generating subsets using dynamic formula\n",
    "    a = 0\n",
    "    b = 0\n",
    "    c = 0\n",
    "\n",
    "    # Starting formula for appending subsets to new_list\n",
    "    formula = 'new_list.append([lst[a]])'\n",
    "\n",
    "    # Generate subsets using a dynamic approach\n",
    "    while c < len(lst):\n",
    "        # Update the formula to include the element at index b+c\n",
    "        formula = formula[0:len(formula) - 2]\n",
    "        formula = formula + f',lst[b+{c}]])'\n",
    "\n",
    "        for num in range(len(lst)):\n",
    "            a = num\n",
    "            b = a + 1\n",
    "\n",
    "            # Append subsets based on the current formula\n",
    "            while b < len(lst) - c:\n",
    "                exec(formula)\n",
    "                b += 1\n",
    "\n",
    "        c += 1\n",
    "\n",
    "    # Append subsets from new_list to subs if not already present\n",
    "    for item in new_list:\n",
    "        if item not in subs:\n",
    "            subs.append(item)\n",
    "    return subs\n",
    "\n",
    "# Generate and print subsets\n",
    "sub_lists = subsets(Nums)\n",
    "print(\"\\nAll subsets using non-recursive approach:\\n\")\n",
    "print(sub_lists)\n",
    "\n",
    "# Recursive function to generate subsets\n",
    "def rec_algo(lst, new_list=[], c=0, formula='new_list.append([lst[a]])'):\n",
    "    if c < len(lst):\n",
    "        # Update the formula to include the element at index b+c\n",
    "        formula = formula[0:len(formula) - 2]\n",
    "        formula = formula + f',lst[b+{c}]])'\n",
    "\n",
    "        for num in range(len(lst)):\n",
    "            a = num\n",
    "            b = a + 1\n",
    "\n",
    "            # Append subsets based on the current formula\n",
    "            while b < len(lst) - c:\n",
    "                exec(formula)\n",
    "                b += 1\n",
    "\n",
    "        return rec_algo(lst, new_list, c+1, formula=formula)\n",
    "    else:\n",
    "        return new_list\n",
    "\n",
    "# Recursive function to generate all possible subsets\n",
    "def recursive_subsets(lst, rec_subs=[], i=0, j=1):\n",
    "    if j <= len(Nums):\n",
    "        # Add subset from index i to j\n",
    "        rec_subs.append(lst[i:j])\n",
    "        return recursive_subsets(lst, rec_subs=rec_subs, i=i, j=j+1)\n",
    "    elif i < len(lst):\n",
    "        j = i + 2\n",
    "        return recursive_subsets(lst, rec_subs=rec_subs, i=i+1, j=j)\n",
    "    else:\n",
    "        # Combine results from recursive subsets and rec_algo\n",
    "        result = rec_algo(lst)\n",
    "        for item in result:\n",
    "            if item not in rec_subs:\n",
    "                rec_subs.append(item)\n",
    "        return rec_subs\n",
    "\n",
    "# Generate and print subsets using recursive_subsets\n",
    "recursion_subs = recursive_subsets(Nums)\n",
    "print(\"\\nAll subsets using recursive approach:\\n\")\n",
    "print(recursion_subs)"
   ]
  },
  {
   "cell_type": "markdown",
   "id": "bdf6e45a",
   "metadata": {},
   "source": [
    "### C-4.18 \n",
    "Use recursion to write a Python function for determining if a string s has\n",
    "more vowels than consonants."
   ]
  },
  {
   "cell_type": "code",
   "execution_count": 5,
   "id": "074ce139",
   "metadata": {},
   "outputs": [
    {
     "name": "stdout",
     "output_type": "stream",
     "text": [
      "Vowels:  5\n",
      "Consonants:  21\n"
     ]
    }
   ],
   "source": [
    "def vow_cons (str, i=0, vow=['a','e','i','o','u'], v=0, c=0):\n",
    "    if i < len(str):\n",
    "        if str[i] not in vow:\n",
    "            c += 1\n",
    "            return vow_cons(str, i+1, vow, v, c)\n",
    "        else:\n",
    "            v += 1\n",
    "            return vow_cons(str, i+1, vow, v, c)\n",
    "\n",
    "    else:\n",
    "        return v, c\n",
    "\n",
    "vowels, conosonants = vow_cons(\"abcdefghijklmnopqrstuvwxyz\")\n",
    "print(\"Vowels: \", vowels)\n",
    "print(\"Consonants: \", conosonants)"
   ]
  },
  {
   "cell_type": "markdown",
   "id": "e1cd2bbc",
   "metadata": {},
   "source": [
    "### C-4.19 \n",
    "Write a short recursive Python function that rearranges a sequence of integer\n",
    "values so that all the even values appear before all the odd values."
   ]
  },
  {
   "cell_type": "code",
   "execution_count": 6,
   "id": "87a9dfc6",
   "metadata": {},
   "outputs": [
    {
     "name": "stdout",
     "output_type": "stream",
     "text": [
      "[2, 4, 6, 8, 10, 12, 24, 1, 3, 5, 7, 9, 11, 13]\n"
     ]
    }
   ],
   "source": [
    "def even_odd(lst, sorted=[], i=0, j=0):\n",
    "    if i < len(lst):\n",
    "        if lst[i] % 2 == 0:\n",
    "            sorted.append(lst[i])\n",
    "            return even_odd(lst, sorted, i+1, j)\n",
    "        else:\n",
    "            return even_odd(lst, sorted, i+1, j)\n",
    "\n",
    "    elif j < len(lst):\n",
    "        if lst[j] % 2 == 1:\n",
    "            sorted.append(lst[j])\n",
    "            return even_odd(lst, sorted, i, j+1)\n",
    "        else:\n",
    "            return even_odd(lst, sorted, i, j+1)\n",
    "\n",
    "    else:\n",
    "        return sorted\n",
    "\n",
    "\n",
    "Nums = [1,2,3,4,5,6,7,8,9,10,11,12,13,24]\n",
    "\n",
    "arranged_list = even_odd(Nums)\n",
    "print(arranged_list)"
   ]
  },
  {
   "cell_type": "markdown",
   "id": "7a65434f",
   "metadata": {},
   "source": [
    "### C-4.21 \n",
    "Suppose you are given an n-element sequence, S, containing distinct integers\n",
    "that are listed in increasing order. Given a number k, describe a\n",
    "recursive algorithm to find two integers in S that sum to k, if such a pair\n",
    "exists. What is the running time of your algorithm?"
   ]
  },
  {
   "cell_type": "code",
   "execution_count": 10,
   "id": "124046c9",
   "metadata": {},
   "outputs": [
    {
     "name": "stdout",
     "output_type": "stream",
     "text": [
      "(1, 9)\n"
     ]
    }
   ],
   "source": [
    "def find_pair(S, k, start, end):\n",
    "    # Base case: If the indices cross each other, no valid pair found\n",
    "    if start >= end:\n",
    "        return None\n",
    "    \n",
    "    # Calculate the sum of the current pair\n",
    "    current_sum = S[start] + S[end]\n",
    "    \n",
    "    # Check if the current pair sums up to k\n",
    "    if current_sum == k:\n",
    "        return (S[start], S[end])\n",
    "    \n",
    "    # If the current sum is less than k, move the start index forward to increase the sum\n",
    "    elif current_sum < k:\n",
    "        return find_pair(S, k, start + 1, end)\n",
    "    \n",
    "    # If the current sum is greater than k, move the end index backward to decrease the sum\n",
    "    else:\n",
    "        return find_pair(S, k, start, end - 1)\n",
    "    \n",
    "\n",
    "S1 = [1, 2, 3, 4, 5, 6, 7, 8, 9]\n",
    "k1 = 10\n",
    "print(find_pair(S1, k1, 0, len(S1) - 1))"
   ]
  },
  {
   "cell_type": "markdown",
   "id": "21e4ffcc",
   "metadata": {},
   "source": [
    "The recursive algorithm to find two integers in a sorted sequence $S$ that sum to $k$ involves checking pairs using two pointers (`start` and `end`), adjusting them based on the current sum. The running time of this algorithm is $O(n)$, which is efficient for this problem."
   ]
  },
  {
   "cell_type": "code",
   "execution_count": null,
   "id": "788a1169",
   "metadata": {},
   "outputs": [],
   "source": []
  }
 ],
 "metadata": {
  "kernelspec": {
   "display_name": "Python 3 (ipykernel)",
   "language": "python",
   "name": "python3"
  },
  "language_info": {
   "codemirror_mode": {
    "name": "ipython",
    "version": 3
   },
   "file_extension": ".py",
   "mimetype": "text/x-python",
   "name": "python",
   "nbconvert_exporter": "python",
   "pygments_lexer": "ipython3",
   "version": "3.11.5"
  }
 },
 "nbformat": 4,
 "nbformat_minor": 5
}
